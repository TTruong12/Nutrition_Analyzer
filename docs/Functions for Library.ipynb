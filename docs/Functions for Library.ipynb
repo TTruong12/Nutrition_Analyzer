{
 "cells": [
  {
   "cell_type": "code",
   "execution_count": null,
   "id": "dc329bc9",
   "metadata": {},
   "outputs": [],
   "source": [
    "def compare_labels(product_a: dict, product_b: dict) -> dict:\n",
    "    \"\"\"\n",
    "    Compare nutrient facts between two food products.\n",
    "\n",
    "    Args:\n",
    "        product_a (dict): Nutrient data for product A. Keys are nutrient names, values are amounts.\n",
    "        product_b (dict): Nutrient data for product B. Same format as product_a.\n",
    "\n",
    "    Returns:\n",
    "        dict: A dictionary with nutrient names as keys and a tuple of (product_a_value, product_b_value, comparison)\n",
    "              where comparison is 'higher in A', 'higher in B', or 'equal'.\n",
    "\n",
    "    Raises:\n",
    "        ValueError: If either input is not a dictionary or missing nutrient keys.\n",
    "    \"\"\""
   ]
  },
  {
   "cell_type": "code",
   "execution_count": null,
   "id": "47e3bda0",
   "metadata": {},
   "outputs": [],
   "source": [
    "def search_keyword(text: str, keyword: str) -> bool:\n",
    "    \"\"\"\n",
    "    Search for a keyword in a block of text.\n",
    "\n",
    "    Args:\n",
    "        text (str): The text to search within.\n",
    "        keyword (str): The keyword to search for.\n",
    "\n",
    "    Returns:\n",
    "        bool: True if keyword is found (case-insensitive), False otherwise.\n",
    "\n",
    "    Raises:\n",
    "        ValueError: If either input is not a string.\n",
    "    \"\"\""
   ]
  },
  {
   "cell_type": "code",
   "execution_count": null,
   "id": "322eb3e7",
   "metadata": {},
   "outputs": [],
   "source": [
    "def calculate_nutri_score_letter(nutrients: dict) -> str:\n",
    "    \"\"\"\n",
    "    Calculates Nutri-Score letter grade (A to E) based on nutrient profile.\n",
    "    Args:\n",
    "        nutrients (dict): Nutrient values with keys like 'sugar', 'saturated_fat', 'sodium', 'fiber', 'protein', 'fruits_veg_percent'\n",
    "    Returns:\n",
    "        str: Nutri-Score letter ('A' to 'E')\n",
    "    Raises:\n",
    "        ValueError: If required nutrients are missing or invalid\n",
    "    \"\"\"\n",
    "    "
   ]
  },
  {
   "cell_type": "code",
   "execution_count": null,
   "id": "3c52f850",
   "metadata": {},
   "outputs": [],
   "source": [
    "from typing import List, Dict\n",
    "from html.parser import HTMLParser\n",
    "\n",
    "def format_search_results(results: List[Dict[str, str]]) -> List[Dict[str, str]]:\n",
    "    \"\"\"\n",
    "    Clean and format a list of search result entries containing brand and product names.\n",
    "\n",
    "    Each entry must include 'brand' and 'product'. This function:\n",
    "    - Removes HTML tags from both fields\n",
    "    - Filters out special characters except basic punctuation\n",
    "    - Returns only entries with valid, readable brand and product names\n",
    "\n",
    "    Args:\n",
    "        results (List[Dict[str, str]]): List of search result dictionaries.\n",
    "\n",
    "    Returns:\n",
    "        List[Dict[str, str]]: Cleaned and validated search results.\n",
    "\n",
    "    Raises:\n",
    "        ValueError: If input is not a list of dictionaries.\n",
    "    \"\"\""
   ]
  }
 ],
 "metadata": {
  "language_info": {
   "name": "python"
  }
 },
 "nbformat": 4,
 "nbformat_minor": 5
}
